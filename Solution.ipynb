{
 "cells": [
  {
   "cell_type": "code",
   "execution_count": 1,
   "id": "aaa39349",
   "metadata": {},
   "outputs": [],
   "source": [
    "import pyspark\n",
    "import pandas as pd\n",
    "from pyspark.sql import SparkSession"
   ]
  },
  {
   "cell_type": "code",
   "execution_count": 2,
   "id": "b374f16a",
   "metadata": {},
   "outputs": [
    {
     "name": "stderr",
     "output_type": "stream",
     "text": [
      "24/12/27 20:26:36 WARN Utils: Your hostname, madiv resolves to a loopback address: 127.0.1.1; using 192.168.1.11 instead (on interface wlo1)\n",
      "24/12/27 20:26:36 WARN Utils: Set SPARK_LOCAL_IP if you need to bind to another address\n",
      "Setting default log level to \"WARN\".\n",
      "To adjust logging level use sc.setLogLevel(newLevel). For SparkR, use setLogLevel(newLevel).\n",
      "24/12/27 20:26:37 WARN NativeCodeLoader: Unable to load native-hadoop library for your platform... using builtin-java classes where applicable\n",
      "24/12/27 20:26:38 WARN Utils: Service 'SparkUI' could not bind on port 4040. Attempting port 4041.\n"
     ]
    }
   ],
   "source": [
    "spark = SparkSession.builder.appName('LeetCode').getOrCreate()"
   ]
  },
  {
   "cell_type": "code",
   "execution_count": 3,
   "id": "3df86c21",
   "metadata": {},
   "outputs": [
    {
     "name": "stdout",
     "output_type": "stream",
     "text": [
      "+-----+------+----------+------+\n",
      "|empId|  name|supervisor|salary|\n",
      "+-----+------+----------+------+\n",
      "|    3|  Brad|      null|  4000|\n",
      "|    1|  John|         3|  1000|\n",
      "|    2|   Dan|         3|  2000|\n",
      "|    4|Thomas|         3|  4000|\n",
      "+-----+------+----------+------+\n",
      "\n",
      "+-----+-----+\n",
      "|empId|bonus|\n",
      "+-----+-----+\n",
      "|    2|  500|\n",
      "|    4| 2000|\n",
      "+-----+-----+\n",
      "\n"
     ]
    }
   ],
   "source": [
    "spark_Employee = spark.read.option('header', True).option('delimiter', ',').csv('Employee.csv')\n",
    "spark_Bonus = spark.read.option('header', True).option('delimiter', ',').csv('Bonus.csv')\n",
    "\n",
    "spark_Employee.show()\n",
    "spark_Bonus.show()"
   ]
  },
  {
   "cell_type": "code",
   "execution_count": 4,
   "id": "6736091d",
   "metadata": {},
   "outputs": [],
   "source": [
    "pandas_Employee = pd.read_csv('Employee.csv')\n",
    "pandas_Bonus = pd.read_csv('Bonus.csv')"
   ]
  },
  {
   "cell_type": "code",
   "execution_count": 5,
   "id": "fde555d2",
   "metadata": {},
   "outputs": [
    {
     "data": {
      "text/html": [
       "<div>\n",
       "<style scoped>\n",
       "    .dataframe tbody tr th:only-of-type {\n",
       "        vertical-align: middle;\n",
       "    }\n",
       "\n",
       "    .dataframe tbody tr th {\n",
       "        vertical-align: top;\n",
       "    }\n",
       "\n",
       "    .dataframe thead th {\n",
       "        text-align: right;\n",
       "    }\n",
       "</style>\n",
       "<table border=\"1\" class=\"dataframe\">\n",
       "  <thead>\n",
       "    <tr style=\"text-align: right;\">\n",
       "      <th></th>\n",
       "      <th>empId</th>\n",
       "      <th>name</th>\n",
       "      <th>supervisor</th>\n",
       "      <th>salary</th>\n",
       "    </tr>\n",
       "  </thead>\n",
       "  <tbody>\n",
       "    <tr>\n",
       "      <th>0</th>\n",
       "      <td>3</td>\n",
       "      <td>Brad</td>\n",
       "      <td>NaN</td>\n",
       "      <td>4000</td>\n",
       "    </tr>\n",
       "    <tr>\n",
       "      <th>1</th>\n",
       "      <td>1</td>\n",
       "      <td>John</td>\n",
       "      <td>3.0</td>\n",
       "      <td>1000</td>\n",
       "    </tr>\n",
       "    <tr>\n",
       "      <th>2</th>\n",
       "      <td>2</td>\n",
       "      <td>Dan</td>\n",
       "      <td>3.0</td>\n",
       "      <td>2000</td>\n",
       "    </tr>\n",
       "    <tr>\n",
       "      <th>3</th>\n",
       "      <td>4</td>\n",
       "      <td>Thomas</td>\n",
       "      <td>3.0</td>\n",
       "      <td>4000</td>\n",
       "    </tr>\n",
       "  </tbody>\n",
       "</table>\n",
       "</div>"
      ],
      "text/plain": [
       "   empId    name  supervisor  salary\n",
       "0      3    Brad         NaN    4000\n",
       "1      1    John         3.0    1000\n",
       "2      2     Dan         3.0    2000\n",
       "3      4  Thomas         3.0    4000"
      ]
     },
     "execution_count": 5,
     "metadata": {},
     "output_type": "execute_result"
    }
   ],
   "source": [
    "pandas_Employee.head()"
   ]
  },
  {
   "cell_type": "code",
   "execution_count": 6,
   "id": "7bda2c77",
   "metadata": {},
   "outputs": [
    {
     "data": {
      "text/html": [
       "<div>\n",
       "<style scoped>\n",
       "    .dataframe tbody tr th:only-of-type {\n",
       "        vertical-align: middle;\n",
       "    }\n",
       "\n",
       "    .dataframe tbody tr th {\n",
       "        vertical-align: top;\n",
       "    }\n",
       "\n",
       "    .dataframe thead th {\n",
       "        text-align: right;\n",
       "    }\n",
       "</style>\n",
       "<table border=\"1\" class=\"dataframe\">\n",
       "  <thead>\n",
       "    <tr style=\"text-align: right;\">\n",
       "      <th></th>\n",
       "      <th>empId</th>\n",
       "      <th>bonus</th>\n",
       "    </tr>\n",
       "  </thead>\n",
       "  <tbody>\n",
       "    <tr>\n",
       "      <th>0</th>\n",
       "      <td>2</td>\n",
       "      <td>500</td>\n",
       "    </tr>\n",
       "    <tr>\n",
       "      <th>1</th>\n",
       "      <td>4</td>\n",
       "      <td>2000</td>\n",
       "    </tr>\n",
       "  </tbody>\n",
       "</table>\n",
       "</div>"
      ],
      "text/plain": [
       "   empId  bonus\n",
       "0      2    500\n",
       "1      4   2000"
      ]
     },
     "execution_count": 6,
     "metadata": {},
     "output_type": "execute_result"
    }
   ],
   "source": [
    "pandas_Bonus.head()"
   ]
  },
  {
   "cell_type": "markdown",
   "id": "7ca70b1e",
   "metadata": {},
   "source": [
    "### SQL"
   ]
  },
  {
   "cell_type": "code",
   "execution_count": 11,
   "id": "609c1b51",
   "metadata": {},
   "outputs": [
    {
     "name": "stdout",
     "output_type": "stream",
     "text": [
      "+----+-----+\n",
      "|name|bonus|\n",
      "+----+-----+\n",
      "|Brad| null|\n",
      "|John| null|\n",
      "| Dan|  500|\n",
      "+----+-----+\n",
      "\n"
     ]
    }
   ],
   "source": [
    "def employee_bonus(employee: pyspark.sql.dataframe.DataFrame,\n",
    "                   bonus: pyspark.sql.dataframe.DataFrame) -> pyspark.sql.dataframe.DataFrame:\n",
    "    # Register both DataFrames (employee and bonus) as temporary SQL views for SQL querying.\n",
    "    # This step allows us to use SQL queries directly on the DataFrames.\n",
    "    employee.createOrReplaceTempView('Employee')\n",
    "    bonus.createOrReplaceTempView('Bonus')\n",
    "    \n",
    "    # Define the SQL query to join the 'Employee' and 'Bonus' tables.\n",
    "    # The query selects employees who have either:\n",
    "    # 1. A bonus less than 1000.\n",
    "    # 2. No bonus (NULL bonus).\n",
    "    sqlQuery = '''\n",
    "    SELECT \n",
    "        e.name, b.bonus  -- Select employee's name and the corresponding bonus\n",
    "    FROM Employee e  -- From the 'Employee' table (aliased as e)\n",
    "    LEFT JOIN        -- Perform a LEFT JOIN to include all employees, even those without a bonus\n",
    "    Bonus b          -- Join with the 'Bonus' table (aliased as b)\n",
    "    ON e.empId = b.empId  -- The join condition: match employees with their bonus using empId\n",
    "    WHERE b.bonus < 1000 or b.bonus IS NULL  -- Only select employees with bonus less than 1000 or no bonus\n",
    "    '''\n",
    "    \n",
    "    # Execute the SQL query using Spark's SQL execution engine.\n",
    "    # This returns a DataFrame with the names of employees who either have a bonus < 1000 or no bonus at all.\n",
    "    names_With_Less_Or_No_Bonus = spark.sql(sqlQuery)  # Fix here: Use sqlQuery directly as an argument\n",
    "    \n",
    "    # Return the DataFrame containing employees' names with less or no bonus.\n",
    "    return names_With_Less_Or_No_Bonus\n",
    "\n",
    "names_With_Less_Or_No_Bonus = employee_bonus(employee = spark_Employee, bonus = spark_Bonus)\n",
    "names_With_Less_Or_No_Bonus.show()"
   ]
  },
  {
   "cell_type": "markdown",
   "id": "9429e3a0",
   "metadata": {},
   "source": [
    "### PySpark"
   ]
  },
  {
   "cell_type": "code",
   "execution_count": 13,
   "id": "45d4f592",
   "metadata": {},
   "outputs": [
    {
     "name": "stdout",
     "output_type": "stream",
     "text": [
      "+----+-----+\n",
      "|name|bonus|\n",
      "+----+-----+\n",
      "|Brad| null|\n",
      "|John| null|\n",
      "| Dan|  500|\n",
      "+----+-----+\n",
      "\n"
     ]
    }
   ],
   "source": [
    "def employee_bonus(employee: pyspark.sql.dataframe.DataFrame,\n",
    "                   bonus: pyspark.sql.dataframe.DataFrame ) -> pyspark.sql.dataframe.DataFrame:\n",
    "    # Perform a LEFT JOIN between the 'employee' DataFrame and 'bonus' DataFrame based on 'empId'.\n",
    "    # A LEFT JOIN ensures all employees will be included, even those without a bonus.\n",
    "    names_With_Less_Or_No_Bonus = employee.join(\n",
    "        bonus,                    # Joining the 'bonus' DataFrame\n",
    "        on = 'empId',             # The condition for the join: matching 'empId' from both DataFrames\n",
    "        how = 'left'              # Perform a LEFT JOIN to include employees even if they don't have a bonus\n",
    "    )\\\n",
    "    .filter(\n",
    "        # Filter employees to select only those with a \n",
    "        # bonus less than 1000 or no bonus at all (NULL).\n",
    "        (bonus.bonus < 1000) | (bonus.bonus.isNull())\n",
    "    )\\\n",
    "    .select(\n",
    "        # Select only the 'name' and 'bonus' \n",
    "        # columns from the resulting DataFrame.\n",
    "        ['name', 'bonus'] \n",
    "    )    \n",
    "    \n",
    "    # Return the resulting DataFrame with employees' names and their bonus (if they qualify).\n",
    "    return names_With_Less_Or_No_Bonus\n",
    "\n",
    "names_With_Less_Or_No_Bonus = employee_bonus(employee = spark_Employee, bonus = spark_Bonus)\n",
    "names_With_Less_Or_No_Bonus.show()"
   ]
  },
  {
   "cell_type": "markdown",
   "id": "3b4bd3a6",
   "metadata": {},
   "source": [
    "### Pandas"
   ]
  },
  {
   "cell_type": "code",
   "execution_count": 14,
   "id": "65038c8c",
   "metadata": {},
   "outputs": [
    {
     "data": {
      "text/html": [
       "<div>\n",
       "<style scoped>\n",
       "    .dataframe tbody tr th:only-of-type {\n",
       "        vertical-align: middle;\n",
       "    }\n",
       "\n",
       "    .dataframe tbody tr th {\n",
       "        vertical-align: top;\n",
       "    }\n",
       "\n",
       "    .dataframe thead th {\n",
       "        text-align: right;\n",
       "    }\n",
       "</style>\n",
       "<table border=\"1\" class=\"dataframe\">\n",
       "  <thead>\n",
       "    <tr style=\"text-align: right;\">\n",
       "      <th></th>\n",
       "      <th>name</th>\n",
       "      <th>bonus</th>\n",
       "    </tr>\n",
       "  </thead>\n",
       "  <tbody>\n",
       "    <tr>\n",
       "      <th>0</th>\n",
       "      <td>Brad</td>\n",
       "      <td>NaN</td>\n",
       "    </tr>\n",
       "    <tr>\n",
       "      <th>1</th>\n",
       "      <td>John</td>\n",
       "      <td>NaN</td>\n",
       "    </tr>\n",
       "    <tr>\n",
       "      <th>2</th>\n",
       "      <td>Dan</td>\n",
       "      <td>500.0</td>\n",
       "    </tr>\n",
       "  </tbody>\n",
       "</table>\n",
       "</div>"
      ],
      "text/plain": [
       "   name  bonus\n",
       "0  Brad    NaN\n",
       "1  John    NaN\n",
       "2   Dan  500.0"
      ]
     },
     "execution_count": 14,
     "metadata": {},
     "output_type": "execute_result"
    }
   ],
   "source": [
    "def employee_bonus(employee: pd.DataFrame, bonus: pd.DataFrame) -> pd.DataFrame:\n",
    "    # Perform a LEFT JOIN between the 'employee' DataFrame and the 'bonus' DataFrame based on 'empId'.\n",
    "    # This ensures that all employees are included, even if they don't have a corresponding bonus.\n",
    "    tables_Join = employee.merge(bonus, on = ['empId'], how = 'left')\n",
    "    \n",
    "    # Filter the rows where the bonus is either:\n",
    "    # 1. Less than 1000 (bonus < 1000), or\n",
    "    # 2. NULL (i.e., no bonus) using `isna()` method.\n",
    "    # This will create a DataFrame of employees with low or no bonuses.\n",
    "    data_With_Less_Or_No_Bonus = tables_Join[(tables_Join['bonus'] < 1000) | (tables_Join['bonus'].isna())]\n",
    "    \n",
    "    # Select only the 'name' and 'bonus' columns from the filtered DataFrame.\n",
    "    # This will create a final DataFrame with employee names and their corresponding bonus (if available).\n",
    "    names_With_Less_Or_No_Bonus = data_With_Less_Or_No_Bonus[['name', 'bonus']]\n",
    "    \n",
    "    # Return the DataFrame containing employees with less or no bonus.\n",
    "    return names_With_Less_Or_No_Bonus\n",
    "\n",
    "names_With_Less_Or_No_Bonus = employee_bonus(employee = pandas_Employee, bonus = pandas_Bonus)\n",
    "names_With_Less_Or_No_Bonus.head()"
   ]
  }
 ],
 "metadata": {
  "kernelspec": {
   "display_name": "Python 3 (ipykernel)",
   "language": "python",
   "name": "python3"
  },
  "language_info": {
   "codemirror_mode": {
    "name": "ipython",
    "version": 3
   },
   "file_extension": ".py",
   "mimetype": "text/x-python",
   "name": "python",
   "nbconvert_exporter": "python",
   "pygments_lexer": "ipython3",
   "version": "3.11.5"
  }
 },
 "nbformat": 4,
 "nbformat_minor": 5
}
